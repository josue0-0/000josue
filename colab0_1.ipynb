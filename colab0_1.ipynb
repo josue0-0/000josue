{
  "nbformat": 4,
  "nbformat_minor": 0,
  "metadata": {
    "colab": {
      "provenance": [],
      "authorship_tag": "ABX9TyNW9yL2XxtWeghXN+OSrZbr",
      "include_colab_link": true
    },
    "kernelspec": {
      "name": "python3",
      "display_name": "Python 3"
    },
    "language_info": {
      "name": "python"
    }
  },
  "cells": [
    {
      "cell_type": "markdown",
      "metadata": {
        "id": "view-in-github",
        "colab_type": "text"
      },
      "source": [
        "<a href=\"https://colab.research.google.com/github/josue0-0/000josue/blob/main/colab0_1.ipynb\" target=\"_parent\"><img src=\"https://colab.research.google.com/assets/colab-badge.svg\" alt=\"Open In Colab\"/></a>"
      ]
    },
    {
      "cell_type": "code",
      "source": [
        " print(\"ola mundo\")\n"
      ],
      "metadata": {
        "colab": {
          "base_uri": "https://localhost:8080/"
        },
        "id": "pTRAgaBUhTTZ",
        "outputId": "e6363087-77fe-4516-8d09-dfc39a104877"
      },
      "execution_count": null,
      "outputs": [
        {
          "output_type": "stream",
          "name": "stdout",
          "text": [
            "ola mundo\n"
          ]
        }
      ]
    },
    {
      "cell_type": "code",
      "source": [
        "from os import O_LARGEFILE\n",
        "oi =input(\"ola \")\n",
        "\n",
        "nome =input(\"qual seu nome? \")\n",
        "\n",
        "idade =input(\"qual sua idade? \")\n",
        "\n",
        "cidade =input(\"qual sua cidade? \")\n",
        "\n",
        "f1 =(\"tem \")\n",
        "\n",
        "f2 =(\"anos e mora em \")\n",
        "\n",
        "print(nome,f1,idade,f2,cidade)\n",
        "\n"
      ],
      "metadata": {
        "colab": {
          "base_uri": "https://localhost:8080/"
        },
        "id": "N9cV6Ir2ht8x",
        "outputId": "0a391f12-2d53-4b96-d766-c35b19a9caef"
      },
      "execution_count": 4,
      "outputs": [
        {
          "output_type": "stream",
          "name": "stdout",
          "text": [
            "ola haii\n",
            "qual seu nome? birineu \n",
            "qual sua idade? 75\n",
            "qual sua cidade? mundo d lua\n",
            "birineu  tem  75 anos e mora em  mundo d lua\n"
          ]
        }
      ]
    }
  ]
}