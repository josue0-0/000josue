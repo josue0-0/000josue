{
  "nbformat": 4,
  "nbformat_minor": 0,
  "metadata": {
    "colab": {
      "provenance": [],
      "authorship_tag": "ABX9TyP4jn6MNXRiNlDrfwjdVa6y",
      "include_colab_link": true
    },
    "kernelspec": {
      "name": "python3",
      "display_name": "Python 3"
    },
    "language_info": {
      "name": "python"
    }
  },
  "cells": [
    {
      "cell_type": "markdown",
      "metadata": {
        "id": "view-in-github",
        "colab_type": "text"
      },
      "source": [
        "<a href=\"https://colab.research.google.com/github/josue0-0/000josue/blob/main/colab0_1.ipynb\" target=\"_parent\"><img src=\"https://colab.research.google.com/assets/colab-badge.svg\" alt=\"Open In Colab\"/></a>"
      ]
    },
    {
      "cell_type": "code",
      "source": [
        " print(\"ola mundo\")\n",
        ""
      ],
      "metadata": {
        "colab": {
          "base_uri": "https://localhost:8080/"
        },
        "id": "pTRAgaBUhTTZ",
        "outputId": "e6363087-77fe-4516-8d09-dfc39a104877"
      },
      "execution_count": 1,
      "outputs": [
        {
          "output_type": "stream",
          "name": "stdout",
          "text": [
            "ola mundo\n"
          ]
        }
      ]
    },
    {
      "cell_type": "code",
      "source": [
        "from os import O_LARGEFILE\n",
        "oi =input(\"ola \")\n",
        "\n",
        "nome =input(\"qual seu nome? \")\n",
        "\n",
        "idade =input(\"qual sua idade? \")\n",
        "\n",
        "cidade =input(\"qual sua cidade? \")\n",
        "\n",
        "f1 =(\"tem \")\n",
        "\n",
        "f2 =(\"anos e\")\n",
        "\n",
        "f3 =(\"e mora em \")\n",
        "\n",
        "print(nome,f1,idade,f2,cidade)\n",
        "\n"
      ],
      "metadata": {
        "colab": {
          "base_uri": "https://localhost:8080/"
        },
        "id": "N9cV6Ir2ht8x",
        "outputId": "0f7a7184-60cc-4604-d6b7-291fee0a05a0"
      },
      "execution_count": 7,
      "outputs": [
        {
          "output_type": "stream",
          "name": "stdout",
          "text": [
            "ola oi\n",
            "qual seu nome? jojo\n",
            "qual sua idade? 24\n",
            "qual sua cidade? joao pessoa\n",
            "jojo tem  24 anos e joao pessoa\n"
          ]
        }
      ]
    }
  ]
}